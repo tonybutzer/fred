{
 "cells": [
  {
   "cell_type": "code",
   "execution_count": 5,
   "id": "ffae9def",
   "metadata": {},
   "outputs": [
    {
     "name": "stdout",
     "output_type": "stream",
     "text": [
      "arlington.geojson  bay.geojson\twashington.geojson\r\n"
     ]
    }
   ],
   "source": [
    "!ls *.geojson"
   ]
  },
  {
   "cell_type": "code",
   "execution_count": 6,
   "id": "248710d0",
   "metadata": {},
   "outputs": [],
   "source": [
    "import geopandas as gpd"
   ]
  },
  {
   "cell_type": "code",
   "execution_count": 7,
   "id": "7289a97f",
   "metadata": {},
   "outputs": [],
   "source": [
    "\n",
    "df = gpd.read_file('arlington.geojson')"
   ]
  },
  {
   "cell_type": "code",
   "execution_count": 8,
   "id": "6747b18f",
   "metadata": {},
   "outputs": [
    {
     "data": {
      "text/html": [
       "<div>\n",
       "<style scoped>\n",
       "    .dataframe tbody tr th:only-of-type {\n",
       "        vertical-align: middle;\n",
       "    }\n",
       "\n",
       "    .dataframe tbody tr th {\n",
       "        vertical-align: top;\n",
       "    }\n",
       "\n",
       "    .dataframe thead th {\n",
       "        text-align: right;\n",
       "    }\n",
       "</style>\n",
       "<table border=\"1\" class=\"dataframe\">\n",
       "  <thead>\n",
       "    <tr style=\"text-align: right;\">\n",
       "      <th></th>\n",
       "      <th>geometry</th>\n",
       "    </tr>\n",
       "  </thead>\n",
       "  <tbody>\n",
       "    <tr>\n",
       "      <th>0</th>\n",
       "      <td>POLYGON ((-77.11235 38.83650, -76.96678 38.836...</td>\n",
       "    </tr>\n",
       "  </tbody>\n",
       "</table>\n",
       "</div>"
      ],
      "text/plain": [
       "                                            geometry\n",
       "0  POLYGON ((-77.11235 38.83650, -76.96678 38.836..."
      ]
     },
     "execution_count": 8,
     "metadata": {},
     "output_type": "execute_result"
    }
   ],
   "source": [
    "df"
   ]
  },
  {
   "cell_type": "code",
   "execution_count": 10,
   "id": "f06831c7",
   "metadata": {},
   "outputs": [
    {
     "data": {
      "image/svg+xml": [
       "<svg xmlns=\"http://www.w3.org/2000/svg\" xmlns:xlink=\"http://www.w3.org/1999/xlink\" width=\"100.0\" height=\"100.0\" viewBox=\"-77.11817321777343 38.83067580365254 0.15721435546873863 0.09022571373008503\" preserveAspectRatio=\"xMinYMin meet\"><g transform=\"matrix(1,0,0,-1,0,77.75157732103517)\"><path fill-rule=\"evenodd\" fill=\"#66cc99\" stroke=\"#555555\" stroke-width=\"0.0031442871093747726\" opacity=\"0.6\" d=\"M -77.11235046386719,38.83649855755879 L -76.96678161621094,38.83649855755879 L -76.96678161621094,38.91507876347637 L -77.11235046386719,38.91507876347637 L -77.11235046386719,38.83649855755879 z\" /></g></svg>"
      ],
      "text/plain": [
       "<shapely.geometry.polygon.Polygon at 0x7fe56a9c68d0>"
      ]
     },
     "execution_count": 10,
     "metadata": {},
     "output_type": "execute_result"
    }
   ],
   "source": [
    "df.geometry[0]"
   ]
  },
  {
   "cell_type": "code",
   "execution_count": 11,
   "id": "1125f710",
   "metadata": {},
   "outputs": [
    {
     "data": {
      "text/plain": [
       "(-77.11235046386719, 38.83649855755879, -76.96678161621094, 38.91507876347637)"
      ]
     },
     "execution_count": 11,
     "metadata": {},
     "output_type": "execute_result"
    }
   ],
   "source": [
    "df.geometry[0].bounds"
   ]
  },
  {
   "cell_type": "code",
   "execution_count": 13,
   "id": "7c4e3253",
   "metadata": {},
   "outputs": [],
   "source": [
    "from pyproj.crs import CRS"
   ]
  },
  {
   "cell_type": "code",
   "execution_count": 14,
   "id": "4552cf40",
   "metadata": {},
   "outputs": [],
   "source": [
    "aea = CRS('+proj=aea +lat_1=29.5 +lat_2=42.5')"
   ]
  },
  {
   "cell_type": "code",
   "execution_count": 15,
   "id": "9a5c7655",
   "metadata": {},
   "outputs": [],
   "source": [
    "adf = df.to_crs(aea)"
   ]
  },
  {
   "cell_type": "code",
   "execution_count": 16,
   "id": "33aca70d",
   "metadata": {},
   "outputs": [
    {
     "data": {
      "text/html": [
       "<div>\n",
       "<style scoped>\n",
       "    .dataframe tbody tr th:only-of-type {\n",
       "        vertical-align: middle;\n",
       "    }\n",
       "\n",
       "    .dataframe tbody tr th {\n",
       "        vertical-align: top;\n",
       "    }\n",
       "\n",
       "    .dataframe thead th {\n",
       "        text-align: right;\n",
       "    }\n",
       "</style>\n",
       "<table border=\"1\" class=\"dataframe\">\n",
       "  <thead>\n",
       "    <tr style=\"text-align: right;\">\n",
       "      <th></th>\n",
       "      <th>geometry</th>\n",
       "    </tr>\n",
       "  </thead>\n",
       "  <tbody>\n",
       "    <tr>\n",
       "      <th>0</th>\n",
       "      <td>POLYGON ((-5994436.812 6610974.907, -5985546.8...</td>\n",
       "    </tr>\n",
       "  </tbody>\n",
       "</table>\n",
       "</div>"
      ],
      "text/plain": [
       "                                            geometry\n",
       "0  POLYGON ((-5994436.812 6610974.907, -5985546.8..."
      ]
     },
     "execution_count": 16,
     "metadata": {},
     "output_type": "execute_result"
    }
   ],
   "source": [
    "adf"
   ]
  },
  {
   "cell_type": "code",
   "execution_count": 19,
   "id": "662f35a1",
   "metadata": {},
   "outputs": [
    {
     "data": {
      "text/html": [
       "<div>\n",
       "<style scoped>\n",
       "    .dataframe tbody tr th:only-of-type {\n",
       "        vertical-align: middle;\n",
       "    }\n",
       "\n",
       "    .dataframe tbody tr th {\n",
       "        vertical-align: top;\n",
       "    }\n",
       "\n",
       "    .dataframe thead th {\n",
       "        text-align: right;\n",
       "    }\n",
       "</style>\n",
       "<table border=\"1\" class=\"dataframe\">\n",
       "  <thead>\n",
       "    <tr style=\"text-align: right;\">\n",
       "      <th></th>\n",
       "      <th>minx</th>\n",
       "      <th>miny</th>\n",
       "      <th>maxx</th>\n",
       "      <th>maxy</th>\n",
       "    </tr>\n",
       "  </thead>\n",
       "  <tbody>\n",
       "    <tr>\n",
       "      <th>0</th>\n",
       "      <td>-5.994437e+06</td>\n",
       "      <td>6.602087e+06</td>\n",
       "      <td>-5.979351e+06</td>\n",
       "      <td>6.617172e+06</td>\n",
       "    </tr>\n",
       "  </tbody>\n",
       "</table>\n",
       "</div>"
      ],
      "text/plain": [
       "           minx          miny          maxx          maxy\n",
       "0 -5.994437e+06  6.602087e+06 -5.979351e+06  6.617172e+06"
      ]
     },
     "execution_count": 19,
     "metadata": {},
     "output_type": "execute_result"
    }
   ],
   "source": [
    "adf.bounds"
   ]
  },
  {
   "cell_type": "code",
   "execution_count": 22,
   "id": "8b1e5965",
   "metadata": {},
   "outputs": [
    {
     "data": {
      "text/plain": [
       "-5979350.506710847"
      ]
     },
     "execution_count": 22,
     "metadata": {},
     "output_type": "execute_result"
    }
   ],
   "source": [
    "adf.bounds['maxx'][0]"
   ]
  },
  {
   "cell_type": "code",
   "execution_count": 23,
   "id": "c80f60c3",
   "metadata": {},
   "outputs": [],
   "source": [
    "xdim = adf.bounds['maxx'][0] - adf.bounds['minx'][0]"
   ]
  },
  {
   "cell_type": "code",
   "execution_count": 24,
   "id": "70e7ca53",
   "metadata": {},
   "outputs": [
    {
     "data": {
      "text/plain": [
       "15086.305151252076"
      ]
     },
     "execution_count": 24,
     "metadata": {},
     "output_type": "execute_result"
    }
   ],
   "source": [
    "xdim"
   ]
  },
  {
   "cell_type": "code",
   "execution_count": 25,
   "id": "4d4da29d",
   "metadata": {},
   "outputs": [],
   "source": [
    "ydim = adf.bounds['maxy'][0] - adf.bounds['miny'][0]"
   ]
  },
  {
   "cell_type": "code",
   "execution_count": 26,
   "id": "0002bdfa",
   "metadata": {},
   "outputs": [
    {
     "data": {
      "text/plain": [
       "15085.83810407389"
      ]
     },
     "execution_count": 26,
     "metadata": {},
     "output_type": "execute_result"
    }
   ],
   "source": [
    "ydim"
   ]
  },
  {
   "cell_type": "code",
   "execution_count": 27,
   "id": "c98e1876",
   "metadata": {},
   "outputs": [],
   "source": [
    "size = xdim * ydim"
   ]
  },
  {
   "cell_type": "code",
   "execution_count": 28,
   "id": "690ada58",
   "metadata": {},
   "outputs": [
    {
     "data": {
      "text/plain": [
       "227589557.10044476"
      ]
     },
     "execution_count": 28,
     "metadata": {},
     "output_type": "execute_result"
    }
   ],
   "source": [
    "size"
   ]
  },
  {
   "cell_type": "code",
   "execution_count": 29,
   "id": "fcfed266",
   "metadata": {},
   "outputs": [],
   "source": [
    "scientific_notation=\"{:e}\".format(size)"
   ]
  },
  {
   "cell_type": "code",
   "execution_count": 30,
   "id": "07c5133a",
   "metadata": {},
   "outputs": [
    {
     "data": {
      "text/plain": [
       "'2.275896e+08'"
      ]
     },
     "execution_count": 30,
     "metadata": {},
     "output_type": "execute_result"
    }
   ],
   "source": [
    "scientific_notation"
   ]
  },
  {
   "cell_type": "code",
   "execution_count": 31,
   "id": "d95b66f0",
   "metadata": {},
   "outputs": [
    {
     "name": "stdout",
     "output_type": "stream",
     "text": [
      "              total        used        free      shared  buff/cache   available\r\n",
      "Mem:            15G        3.9G         10G        692K        993M         11G\r\n",
      "Swap:            0B          0B          0B\r\n"
     ]
    }
   ],
   "source": [
    "! free -h"
   ]
  },
  {
   "cell_type": "code",
   "execution_count": null,
   "id": "fbe26940",
   "metadata": {},
   "outputs": [],
   "source": []
  }
 ],
 "metadata": {
  "kernelspec": {
   "display_name": "Python 3",
   "language": "python",
   "name": "python3"
  },
  "language_info": {
   "codemirror_mode": {
    "name": "ipython",
    "version": 3
   },
   "file_extension": ".py",
   "mimetype": "text/x-python",
   "name": "python",
   "nbconvert_exporter": "python",
   "pygments_lexer": "ipython3",
   "version": "3.7.10"
  }
 },
 "nbformat": 4,
 "nbformat_minor": 5
}
