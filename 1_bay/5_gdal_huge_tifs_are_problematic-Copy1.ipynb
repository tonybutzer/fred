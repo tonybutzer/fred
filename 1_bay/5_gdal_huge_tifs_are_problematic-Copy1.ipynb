{
 "cells": [
  {
   "cell_type": "code",
   "execution_count": 1,
   "id": "cb0649d3",
   "metadata": {},
   "outputs": [
    {
     "name": "stdout",
     "output_type": "stream",
     "text": [
      " 0_picotte_Folder\t        bunny.obj\t    my_condas\r\n",
      " Attic\t\t\t       'conda rise.ipynb'   opt\r\n",
      " Baywide_13Class_20132014.tif   dc\t\t    play\r\n",
      " Baywide_7Class_20132014.zip    iarpa\t\t    rise_play_claudia.ipynb\r\n",
      " DC_11001.zip\t\t        junk\t\t   'test presentation.ipynb'\r\n",
      " Untitled.ipynb\t\t        lidar-cloud\r\n",
      " Untitled1.ipynb\t        maine_one_tile.nc\r\n"
     ]
    }
   ],
   "source": [
    "! ls ~"
   ]
  },
  {
   "cell_type": "code",
   "execution_count": 2,
   "id": "1096f4b1",
   "metadata": {},
   "outputs": [],
   "source": [
    "from osgeo import gdal\n",
    "import numpy as np\n",
    "# ds = gdal.Open(\"/home/jovyan/Baywide_13Class_20132014.tif\")\n",
    "# channel = np.array(ds.GetRasterBand(1).ReadAsArray())"
   ]
  },
  {
   "cell_type": "code",
   "execution_count": 3,
   "id": "b68d2916",
   "metadata": {},
   "outputs": [
    {
     "name": "stdout",
     "output_type": "stream",
     "text": [
      "              total        used        free      shared  buff/cache   available\r\n",
      "Mem:            15G         14G        203M        732K        940M        872M\r\n",
      "Swap:            0B          0B          0B\r\n"
     ]
    }
   ],
   "source": [
    "! free -h"
   ]
  },
  {
   "cell_type": "code",
   "execution_count": 4,
   "id": "e7f7bb31",
   "metadata": {},
   "outputs": [],
   "source": [
    "from rasterio.windows import Window"
   ]
  },
  {
   "cell_type": "code",
   "execution_count": 5,
   "id": "33f98956",
   "metadata": {},
   "outputs": [
    {
     "ename": "IndexError",
     "evalue": "band index 2 out of range (not in (1,))",
     "output_type": "error",
     "traceback": [
      "\u001b[0;31m---------------------------------------------------------------------------\u001b[0m",
      "\u001b[0;31mIndexError\u001b[0m                                Traceback (most recent call last)",
      "\u001b[0;32m<ipython-input-5-9b5d6a2eb1c7>\u001b[0m in \u001b[0;36m<module>\u001b[0;34m\u001b[0m\n\u001b[1;32m      1\u001b[0m \u001b[0;32mimport\u001b[0m \u001b[0mrasterio\u001b[0m\u001b[0;34m\u001b[0m\u001b[0;34m\u001b[0m\u001b[0m\n\u001b[1;32m      2\u001b[0m \u001b[0;32mwith\u001b[0m \u001b[0mrasterio\u001b[0m\u001b[0;34m.\u001b[0m\u001b[0mopen\u001b[0m\u001b[0;34m(\u001b[0m\u001b[0;34m\"/home/jovyan/Baywide_13Class_20132014.tif\"\u001b[0m\u001b[0;34m)\u001b[0m \u001b[0;32mas\u001b[0m \u001b[0msrc\u001b[0m\u001b[0;34m:\u001b[0m\u001b[0;34m\u001b[0m\u001b[0;34m\u001b[0m\u001b[0m\n\u001b[0;32m----> 3\u001b[0;31m      \u001b[0mw\u001b[0m \u001b[0;34m=\u001b[0m \u001b[0msrc\u001b[0m\u001b[0;34m.\u001b[0m\u001b[0mread\u001b[0m\u001b[0;34m(\u001b[0m\u001b[0;36m2\u001b[0m\u001b[0;34m,\u001b[0m \u001b[0mwindow\u001b[0m\u001b[0;34m=\u001b[0m\u001b[0mWindow\u001b[0m\u001b[0;34m(\u001b[0m\u001b[0;36m0\u001b[0m\u001b[0;34m,\u001b[0m \u001b[0;36m0\u001b[0m\u001b[0;34m,\u001b[0m \u001b[0;36m100000\u001b[0m\u001b[0;34m,\u001b[0m \u001b[0;36m100000\u001b[0m\u001b[0;34m)\u001b[0m\u001b[0;34m)\u001b[0m\u001b[0;34m\u001b[0m\u001b[0;34m\u001b[0m\u001b[0m\n\u001b[0m",
      "\u001b[0;32mrasterio/_io.pyx\u001b[0m in \u001b[0;36mrasterio._io.DatasetReaderBase.read\u001b[0;34m()\u001b[0m\n",
      "\u001b[0;31mIndexError\u001b[0m: band index 2 out of range (not in (1,))"
     ]
    }
   ],
   "source": [
    "import rasterio\n",
    "with rasterio.open(\"/home/jovyan/Baywide_13Class_20132014.tif\") as src:\n",
    "     w = src.read(2, window=Window(0, 0, 100000, 100000))"
   ]
  },
  {
   "cell_type": "code",
   "execution_count": null,
   "id": "03342b00",
   "metadata": {},
   "outputs": [],
   "source": [
    "w"
   ]
  },
  {
   "cell_type": "code",
   "execution_count": null,
   "id": "29453d25",
   "metadata": {},
   "outputs": [],
   "source": [
    "import pylab\n",
    "import numpy as np"
   ]
  },
  {
   "cell_type": "code",
   "execution_count": null,
   "id": "d27f7f50",
   "metadata": {},
   "outputs": [],
   "source": [
    "# A=w\n",
    "# pylab.figure()\n",
    "# pylab.hist(A[~np.isnan(A)], bins=10)\n",
    "# pylab.show()\n",
    "\n"
   ]
  },
  {
   "cell_type": "code",
   "execution_count": null,
   "id": "d64cce53",
   "metadata": {},
   "outputs": [],
   "source": [
    "for x in range(0,100000):\n",
    "    for y in range(0,100000):\n",
    "        if w[x][y] != 0:\n",
    "            print (x, y, w[x][y])"
   ]
  },
  {
   "cell_type": "code",
   "execution_count": null,
   "id": "f3855512",
   "metadata": {},
   "outputs": [],
   "source": []
  }
 ],
 "metadata": {
  "kernelspec": {
   "display_name": "Python 3",
   "language": "python",
   "name": "python3"
  },
  "language_info": {
   "codemirror_mode": {
    "name": "ipython",
    "version": 3
   },
   "file_extension": ".py",
   "mimetype": "text/x-python",
   "name": "python",
   "nbconvert_exporter": "python",
   "pygments_lexer": "ipython3",
   "version": "3.7.10"
  }
 },
 "nbformat": 4,
 "nbformat_minor": 5
}
