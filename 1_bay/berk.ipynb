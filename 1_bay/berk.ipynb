{
 "cells": [
  {
   "cell_type": "code",
   "execution_count": 1,
   "id": "5c196375",
   "metadata": {},
   "outputs": [
    {
     "name": "stdout",
     "output_type": "stream",
     "text": [
      "--2022-05-26 01:35:56--  https://cicwebresources.blob.core.windows.net/chesapeakebaylandcover/WV/BERK_54003.zip\n",
      "Resolving cicwebresources.blob.core.windows.net (cicwebresources.blob.core.windows.net)... 52.239.214.132\n",
      "Connecting to cicwebresources.blob.core.windows.net (cicwebresources.blob.core.windows.net)|52.239.214.132|:443... connected.\n",
      "HTTP request sent, awaiting response... 200 OK\n",
      "Length: 32085032 (31M) [application/zip]\n",
      "Saving to: ‘BERK_54003.zip’\n",
      "\n",
      "BERK_54003.zip      100%[===================>]  30.60M  2.86MB/s    in 6.6s    \n",
      "\n",
      "2022-05-26 01:36:04 (4.64 MB/s) - ‘BERK_54003.zip’ saved [32085032/32085032]\n",
      "\n"
     ]
    }
   ],
   "source": [
    "#!(cd ~; wget https://cicwebresources.blob.core.windows.net/chesapeakebaylandcover/WV/BERK_54003.zip)"
   ]
  },
  {
   "cell_type": "code",
   "execution_count": 2,
   "id": "d540fdae",
   "metadata": {},
   "outputs": [
    {
     "name": "stdout",
     "output_type": "stream",
     "text": [
      "Archive:  BERK_54003.zip\n",
      "   creating: BERK_54003/\n",
      "  inflating: BERK_54003/BERK_54003.img  \n",
      "  inflating: BERK_54003/BERK_54003.img.aux.xml  \n",
      " extracting: BERK_54003/BERK_54003.img.vat.cpg  \n",
      "  inflating: BERK_54003/BERK_54003.img.vat.dbf  \n",
      "  inflating: BERK_54003/BERK_54003.img.xml  \n",
      "  inflating: BERK_54003/BERK_54003.rrd  \n"
     ]
    }
   ],
   "source": [
    "#!( cd ~ ; mkdir berk; mv BER* berk; cd berk; unzip *.zip)"
   ]
  },
  {
   "cell_type": "code",
   "execution_count": 3,
   "id": "c51f5a0f",
   "metadata": {},
   "outputs": [
    {
     "name": "stdout",
     "output_type": "stream",
     "text": [
      "Driver: GTiff/GeoTIFF\n",
      "Files: /home/jovyan/Baywide_13Class_20132014.tif\n",
      "Size is 499126, 878340\n",
      "Coordinate System is:\n",
      "PROJCRS[\"USA_Contiguous_Albers_Equal_Area_Conic_USGS_version\",\n",
      "    BASEGEOGCRS[\"NAD83\",\n",
      "        DATUM[\"North American Datum 1983\",\n",
      "            ELLIPSOID[\"GRS 1980\",6378137,298.257222101004,\n",
      "                LENGTHUNIT[\"metre\",1]]],\n",
      "        PRIMEM[\"Greenwich\",0,\n",
      "            ANGLEUNIT[\"degree\",0.0174532925199433]],\n",
      "        ID[\"EPSG\",4269]],\n",
      "    CONVERSION[\"Albers Equal Area\",\n",
      "        METHOD[\"Albers Equal Area\",\n",
      "            ID[\"EPSG\",9822]],\n",
      "        PARAMETER[\"Latitude of false origin\",23,\n",
      "            ANGLEUNIT[\"degree\",0.0174532925199433],\n",
      "            ID[\"EPSG\",8821]],\n",
      "        PARAMETER[\"Longitude of false origin\",-96,\n",
      "            ANGLEUNIT[\"degree\",0.0174532925199433],\n",
      "            ID[\"EPSG\",8822]],\n",
      "        PARAMETER[\"Latitude of 1st standard parallel\",29.5,\n",
      "            ANGLEUNIT[\"degree\",0.0174532925199433],\n",
      "            ID[\"EPSG\",8823]],\n",
      "        PARAMETER[\"Latitude of 2nd standard parallel\",45.5,\n",
      "            ANGLEUNIT[\"degree\",0.0174532925199433],\n",
      "            ID[\"EPSG\",8824]],\n",
      "        PARAMETER[\"Easting at false origin\",0,\n",
      "            LENGTHUNIT[\"metre\",1],\n",
      "            ID[\"EPSG\",8826]],\n",
      "        PARAMETER[\"Northing at false origin\",0,\n",
      "            LENGTHUNIT[\"metre\",1],\n",
      "            ID[\"EPSG\",8827]]],\n",
      "    CS[Cartesian,2],\n",
      "        AXIS[\"easting\",east,\n",
      "            ORDER[1],\n",
      "            LENGTHUNIT[\"metre\",1,\n",
      "                ID[\"EPSG\",9001]]],\n",
      "        AXIS[\"northing\",north,\n",
      "            ORDER[2],\n",
      "            LENGTHUNIT[\"metre\",1,\n",
      "                ID[\"EPSG\",9001]]]]\n",
      "Data axis to CRS axis mapping: 1,2\n",
      "Origin = (1303555.000000000465661,2535064.999999998137355)\n",
      "Pixel Size = (1.000000000000000,-1.000000000000000)\n",
      "Metadata:\n",
      "  AREA_OR_POINT=Area\n",
      "  DataType=Generic\n",
      "Image Structure Metadata:\n",
      "  COMPRESSION=LZW\n",
      "  INTERLEAVE=BAND\n",
      "Corner Coordinates:\n",
      "Upper Left  ( 1303555.000, 2535065.000) ( 79d24'57.14\"W, 44d46'41.57\"N)\n",
      "Lower Left  ( 1303555.000, 1656725.000) ( 81d 8'47.70\"W, 37d 2' 4.98\"N)\n",
      "Upper Right ( 1802681.000, 2535065.000) ( 73d16'24.88\"W, 43d51'28.85\"N)\n",
      "Lower Right ( 1802681.000, 1656725.000) ( 75d36'32.94\"W, 36d12'46.52\"N)\n",
      "Center      ( 1553118.000, 2095895.000) ( 77d23'53.86\"W, 40d30'13.23\"N)\n",
      "Band 1 Block=128x128 Type=Byte, ColorInterp=Palette\n",
      "  Min=1.000 Max=12.000 \n",
      "  Minimum=1.000, Maximum=12.000, Mean=3.588, StdDev=1.478\n",
      "  NoData Value=0\n",
      "  Metadata:\n",
      "    RepresentationType=THEMATIC\n",
      "    STATISTICS_COVARIANCES=2.184897016039103\n",
      "    STATISTICS_MAXIMUM=12\n",
      "    STATISTICS_MEAN=3.587997581131\n",
      "    STATISTICS_MINIMUM=1\n",
      "    STATISTICS_SKIPFACTORX=1\n",
      "    STATISTICS_SKIPFACTORY=1\n",
      "    STATISTICS_STDDEV=1.4781397146546\n",
      "  Image Structure Metadata:\n",
      "    NBITS=4\n",
      "  Color Table (RGB with 16 entries)\n",
      "    0: 0,0,0,0\n",
      "    1: 0,197,255,255\n",
      "    2: 0,168,132,255\n",
      "    3: 38,115,0,255\n",
      "    4: 76,230,0,255\n",
      "    5: 163,255,115,255\n",
      "    6: 255,170,0,255\n",
      "    7: 255,0,0,255\n",
      "    8: 156,156,156,255\n",
      "    9: 0,0,0,255\n",
      "   10: 115,115,0,255\n",
      "   11: 230,230,0,255\n",
      "   12: 255,255,115,255\n",
      "   13: 197,0,255,255\n",
      "   14: 0,0,0,255\n",
      "   15: 0,0,0,255\n"
     ]
    }
   ],
   "source": [
    "! gdalinfo /home/jovyan/Baywide_13Class_20132014.tif"
   ]
  },
  {
   "cell_type": "code",
   "execution_count": null,
   "id": "ff229442",
   "metadata": {},
   "outputs": [],
   "source": []
  }
 ],
 "metadata": {
  "kernelspec": {
   "display_name": "Python 3",
   "language": "python",
   "name": "python3"
  },
  "language_info": {
   "codemirror_mode": {
    "name": "ipython",
    "version": 3
   },
   "file_extension": ".py",
   "mimetype": "text/x-python",
   "name": "python",
   "nbconvert_exporter": "python",
   "pygments_lexer": "ipython3",
   "version": "3.7.10"
  }
 },
 "nbformat": 4,
 "nbformat_minor": 5
}
