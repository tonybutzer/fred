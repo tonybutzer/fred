{
 "cells": [
  {
   "cell_type": "code",
   "execution_count": 1,
   "id": "8f562494",
   "metadata": {},
   "outputs": [
    {
     "name": "stdout",
     "output_type": "stream",
     "text": [
      "                           PRE Baywide_13Class_20132014.zip/\r\n",
      "2022-05-25 22:50:59        539 BaywideLC13class_20191213.tif.vat.dbf.xml\r\n",
      "2022-05-25 22:51:04         91 Baywide_13Class_20132014.tfw\r\n",
      "2022-05-25 22:50:59 10537904208 Baywide_13Class_20132014.tif\r\n",
      "2022-05-25 22:51:04       1022 Baywide_13Class_20132014.tif.aux.xml\r\n",
      "2022-05-25 22:51:04 3707446056 Baywide_13Class_20132014.tif.ovr\r\n",
      "2022-05-25 22:51:04          5 Baywide_13Class_20132014.tif.vat.cpg\r\n",
      "2022-05-25 22:51:04        518 Baywide_13Class_20132014.tif.vat.dbf\r\n",
      "2022-05-25 22:51:04      72874 Baywide_13Class_20132014.tif.xml\r\n"
     ]
    }
   ],
   "source": [
    "! aws s3 ls dev-et-data/irani/"
   ]
  },
  {
   "cell_type": "code",
   "execution_count": 2,
   "id": "e2e42be5",
   "metadata": {},
   "outputs": [],
   "source": [
    "tif = 's3://dev-et-data/irani/Baywide_13Class_20132014.tif.ovr'"
   ]
  },
  {
   "cell_type": "code",
   "execution_count": 3,
   "id": "f763e416",
   "metadata": {},
   "outputs": [
    {
     "name": "stdout",
     "output_type": "stream",
     "text": [
      "s3://dev-et-data/irani/Baywide_13Class_20132014.tif.ovr\n"
     ]
    },
    {
     "name": "stderr",
     "output_type": "stream",
     "text": [
      "/srv/conda/envs/pangeo/lib/python3.7/site-packages/rasterio/__init__.py:220: NotGeoreferencedWarning: Dataset has no geotransform, gcps, or rpcs. The identity matrix be returned.\n",
      "  s = DatasetReader(path, driver=driver, sharing=sharing, **kwargs)\n"
     ]
    },
    {
     "data": {
      "text/plain": [
       "rasterio.io.DatasetReader"
      ]
     },
     "execution_count": 3,
     "metadata": {},
     "output_type": "execute_result"
    }
   ],
   "source": [
    "import rasterio\n",
    "import matplotlib.pyplot as plt\n",
    "#%matplotlib inline\n",
    "print(tif)\n",
    "raster = rasterio.open(tif)\n",
    "type(raster)"
   ]
  },
  {
   "cell_type": "code",
   "execution_count": 4,
   "id": "819d09c0",
   "metadata": {},
   "outputs": [
    {
     "data": {
      "text/plain": [
       "{'driver': 'GTiff', 'dtype': 'uint8', 'nodata': 0.0, 'width': 249563, 'height': 439170, 'count': 1, 'crs': None, 'transform': Affine(1.0, 0.0, 0.0,\n",
       "       0.0, 1.0, 0.0), 'blockxsize': 128, 'blockysize': 128, 'tiled': True, 'compress': 'deflate', 'interleave': 'band'}"
      ]
     },
     "execution_count": 4,
     "metadata": {},
     "output_type": "execute_result"
    }
   ],
   "source": [
    "raster.profile"
   ]
  },
  {
   "cell_type": "code",
   "execution_count": 5,
   "id": "d54f59c6",
   "metadata": {},
   "outputs": [
    {
     "data": {
      "text/plain": [
       "BoundingBox(left=0.0, bottom=439170.0, right=249563.0, top=0.0)"
      ]
     },
     "execution_count": 5,
     "metadata": {},
     "output_type": "execute_result"
    }
   ],
   "source": [
    "raster.bounds"
   ]
  },
  {
   "cell_type": "code",
   "execution_count": 6,
   "id": "c3acaac1",
   "metadata": {},
   "outputs": [],
   "source": [
    "from rasterio.plot import show_hist"
   ]
  },
  {
   "cell_type": "code",
   "execution_count": null,
   "id": "02b5f2da",
   "metadata": {},
   "outputs": [],
   "source": [
    "fig, axhist = plt.subplots(1, 1, figsize=(20, 20))\n",
    "show_hist(raster, ax=axhist, bins=100, lw=0.0, stacked=False, alpha=0.3, histtype='stepfilled', density=True, title=\"Title\")"
   ]
  },
  {
   "cell_type": "code",
   "execution_count": null,
   "id": "b83fcfbf",
   "metadata": {},
   "outputs": [],
   "source": []
  }
 ],
 "metadata": {
  "kernelspec": {
   "display_name": "Python 3",
   "language": "python",
   "name": "python3"
  },
  "language_info": {
   "codemirror_mode": {
    "name": "ipython",
    "version": 3
   },
   "file_extension": ".py",
   "mimetype": "text/x-python",
   "name": "python",
   "nbconvert_exporter": "python",
   "pygments_lexer": "ipython3",
   "version": "3.7.10"
  }
 },
 "nbformat": 4,
 "nbformat_minor": 5
}
