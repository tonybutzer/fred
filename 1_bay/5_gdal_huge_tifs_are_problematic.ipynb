{
 "cells": [
  {
   "cell_type": "code",
   "execution_count": 1,
   "id": "cb0649d3",
   "metadata": {},
   "outputs": [
    {
     "name": "stdout",
     "output_type": "stream",
     "text": [
      " 0_picotte_Folder\t       'conda rise.ipynb'   opt\r\n",
      " Attic\t\t\t        iarpa\t\t    play\r\n",
      " Baywide_13Class_20132014.tif   junk\t\t    rise_play_claudia.ipynb\r\n",
      " Untitled.ipynb\t\t        lidar-cloud\t   'test presentation.ipynb'\r\n",
      " Untitled1.ipynb\t        maine_one_tile.nc\r\n",
      " bunny.obj\t\t        my_condas\r\n"
     ]
    }
   ],
   "source": [
    "! ls ~"
   ]
  },
  {
   "cell_type": "code",
   "execution_count": 2,
   "id": "1096f4b1",
   "metadata": {},
   "outputs": [],
   "source": [
    "from osgeo import gdal\n",
    "import numpy as np\n",
    "# ds = gdal.Open(\"/home/jovyan/Baywide_13Class_20132014.tif\")\n",
    "# channel = np.array(ds.GetRasterBand(1).ReadAsArray())"
   ]
  },
  {
   "cell_type": "code",
   "execution_count": 3,
   "id": "b68d2916",
   "metadata": {},
   "outputs": [
    {
     "name": "stdout",
     "output_type": "stream",
     "text": [
      "              total        used        free      shared  buff/cache   available\r\n",
      "Mem:            15G        4.0G         10G        732K        440M         11G\r\n",
      "Swap:            0B          0B          0B\r\n"
     ]
    }
   ],
   "source": [
    "! free -h"
   ]
  },
  {
   "cell_type": "code",
   "execution_count": 4,
   "id": "e7f7bb31",
   "metadata": {},
   "outputs": [],
   "source": [
    "from rasterio.windows import Window"
   ]
  },
  {
   "cell_type": "code",
   "execution_count": 5,
   "id": "33f98956",
   "metadata": {},
   "outputs": [],
   "source": [
    "import rasterio\n",
    "with rasterio.open(\"/home/jovyan/Baywide_13Class_20132014.tif\") as src:\n",
    "     w = src.read(1, window=Window(0, 0, 100000, 100000))"
   ]
  },
  {
   "cell_type": "code",
   "execution_count": 6,
   "id": "03342b00",
   "metadata": {},
   "outputs": [
    {
     "data": {
      "text/plain": [
       "array([[0, 0, 0, ..., 0, 0, 0],\n",
       "       [0, 0, 0, ..., 0, 0, 0],\n",
       "       [0, 0, 0, ..., 0, 0, 0],\n",
       "       ...,\n",
       "       [0, 0, 0, ..., 0, 0, 0],\n",
       "       [0, 0, 0, ..., 0, 0, 0],\n",
       "       [0, 0, 0, ..., 0, 0, 0]], dtype=uint8)"
      ]
     },
     "execution_count": 6,
     "metadata": {},
     "output_type": "execute_result"
    }
   ],
   "source": [
    "w"
   ]
  },
  {
   "cell_type": "code",
   "execution_count": 7,
   "id": "29453d25",
   "metadata": {},
   "outputs": [],
   "source": [
    "import pylab\n",
    "import numpy as np"
   ]
  },
  {
   "cell_type": "code",
   "execution_count": 8,
   "id": "d27f7f50",
   "metadata": {},
   "outputs": [],
   "source": [
    "# A=w\n",
    "# pylab.figure()\n",
    "# pylab.hist(A[~np.isnan(A)], bins=10)\n",
    "# pylab.show()\n",
    "\n"
   ]
  },
  {
   "cell_type": "code",
   "execution_count": null,
   "id": "d64cce53",
   "metadata": {},
   "outputs": [],
   "source": [
    "for x in range(0,100000):\n",
    "    for y in range(0,100000):\n",
    "        if w[x][y] != 0:\n",
    "            print (x, y, w[x][y])"
   ]
  },
  {
   "cell_type": "code",
   "execution_count": null,
   "id": "f3855512",
   "metadata": {},
   "outputs": [],
   "source": []
  }
 ],
 "metadata": {
  "kernelspec": {
   "display_name": "Python 3",
   "language": "python",
   "name": "python3"
  },
  "language_info": {
   "codemirror_mode": {
    "name": "ipython",
    "version": 3
   },
   "file_extension": ".py",
   "mimetype": "text/x-python",
   "name": "python",
   "nbconvert_exporter": "python",
   "pygments_lexer": "ipython3",
   "version": "3.7.10"
  }
 },
 "nbformat": 4,
 "nbformat_minor": 5
}
