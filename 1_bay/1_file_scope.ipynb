{
 "cells": [
  {
   "cell_type": "code",
   "execution_count": 2,
   "id": "bfe36b41",
   "metadata": {},
   "outputs": [
    {
     "name": "stdout",
     "output_type": "stream",
     "text": [
      "                           PRE Baywide_13Class_20132014.zip/\r\n",
      "2022-05-25 22:50:59  539 Bytes BaywideLC13class_20191213.tif.vat.dbf.xml\r\n",
      "2022-05-25 22:51:04   91 Bytes Baywide_13Class_20132014.tfw\r\n",
      "2022-05-25 22:50:59    9.8 GiB Baywide_13Class_20132014.tif\r\n",
      "2022-05-25 22:51:04 1022 Bytes Baywide_13Class_20132014.tif.aux.xml\r\n",
      "2022-05-25 22:51:04    3.5 GiB Baywide_13Class_20132014.tif.ovr\r\n",
      "2022-05-25 22:51:04    5 Bytes Baywide_13Class_20132014.tif.vat.cpg\r\n",
      "2022-05-25 22:51:04  518 Bytes Baywide_13Class_20132014.tif.vat.dbf\r\n",
      "2022-05-25 22:51:04   71.2 KiB Baywide_13Class_20132014.tif.xml\r\n"
     ]
    }
   ],
   "source": [
    "! aws s3 ls dev-et-data/irani/ --human"
   ]
  },
  {
   "cell_type": "code",
   "execution_count": 4,
   "id": "b35e449a",
   "metadata": {},
   "outputs": [
    {
     "name": "stdout",
     "output_type": "stream",
     "text": [
      "Warning 1: HTTP response code on https://dev-et-data.s3.amazonaws.com/irani/Baywide_13Class_20132014.tif: 403\n",
      "ERROR 17: The AWS Access Key Id you provided does not exist in our records.\n",
      "gdalinfo failed - unable to open '/vsis3/dev-et-data/irani/Baywide_13Class_20132014.tif'.\n"
     ]
    }
   ],
   "source": [
    "! gdalinfo /vsis3/dev-et-data/irani/Baywide_13Class_20132014.tif"
   ]
  },
  {
   "cell_type": "code",
   "execution_count": 7,
   "id": "200a2c2a",
   "metadata": {},
   "outputs": [
    {
     "name": "stdout",
     "output_type": "stream",
     "text": [
      "2022-05-25 22:50:59 10537904208 Baywide_13Class_20132014.tif\r\n",
      "2022-05-25 22:51:04       1022 Baywide_13Class_20132014.tif.aux.xml\r\n",
      "2022-05-25 22:51:04 3707446056 Baywide_13Class_20132014.tif.ovr\r\n",
      "2022-05-25 22:51:04          5 Baywide_13Class_20132014.tif.vat.cpg\r\n",
      "2022-05-25 22:51:04        518 Baywide_13Class_20132014.tif.vat.dbf\r\n",
      "2022-05-25 22:51:04      72874 Baywide_13Class_20132014.tif.xml\r\n"
     ]
    }
   ],
   "source": [
    "! aws s3 ls s3://dev-et-data/irani/Baywide_13Class_20132014.tif"
   ]
  },
  {
   "cell_type": "code",
   "execution_count": 11,
   "id": "b2c142ca",
   "metadata": {},
   "outputs": [
    {
     "name": "stdout",
     "output_type": "stream",
     "text": [
      "{\r\n",
      "    \"blockxsize\": 128,\r\n",
      "    \"blockysize\": 128,\r\n",
      "    \"bounds\": [\r\n",
      "        1303555.0000000005,\r\n",
      "        1656724.9999999981,\r\n",
      "        1802681.0000000005,\r\n",
      "        2535064.999999998\r\n",
      "    ],\r\n",
      "    \"colorinterp\": [\r\n",
      "        \"palette\"\r\n",
      "    ],\r\n",
      "    \"compress\": \"lzw\",\r\n",
      "    \"count\": 1,\r\n",
      "    \"crs\": \"PROJCS[\\\"USA_Contiguous_Albers_Equal_Area_Conic_USGS_version\\\",GEOGCS[\\\"NAD83\\\",DATUM[\\\"North_American_Datum_1983\\\",SPHEROID[\\\"GRS 1980\\\",6378137,298.257222101004,AUTHORITY[\\\"EPSG\\\",\\\"7019\\\"]],AUTHORITY[\\\"EPSG\\\",\\\"6269\\\"]],PRIMEM[\\\"Greenwich\\\",0],UNIT[\\\"degree\\\",0.0174532925199433,AUTHORITY[\\\"EPSG\\\",\\\"9122\\\"]],AUTHORITY[\\\"EPSG\\\",\\\"4269\\\"]],PROJECTION[\\\"Albers_Conic_Equal_Area\\\"],PARAMETER[\\\"latitude_of_center\\\",23],PARAMETER[\\\"longitude_of_center\\\",-96],PARAMETER[\\\"standard_parallel_1\\\",29.5],PARAMETER[\\\"standard_parallel_2\\\",45.5],PARAMETER[\\\"false_easting\\\",0],PARAMETER[\\\"false_northing\\\",0],UNIT[\\\"metre\\\",1,AUTHORITY[\\\"EPSG\\\",\\\"9001\\\"]],AXIS[\\\"Easting\\\",EAST],AXIS[\\\"Northing\\\",NORTH]]\",\r\n",
      "    \"descriptions\": [\r\n",
      "        null\r\n",
      "    ],\r\n",
      "    \"driver\": \"GTiff\",\r\n",
      "    \"dtype\": \"uint8\",\r\n",
      "    \"height\": 878340,\r\n",
      "    \"indexes\": [\r\n",
      "        1\r\n",
      "    ],\r\n",
      "    \"interleave\": \"band\",\r\n",
      "    \"lnglat\": [\r\n",
      "        -77.39829611705747,\r\n",
      "        40.50367518974389\r\n",
      "    ],\r\n",
      "    \"mask_flags\": [\r\n",
      "        [\r\n",
      "            \"nodata\"\r\n",
      "        ]\r\n",
      "    ],\r\n",
      "    \"nodata\": 0.0,\r\n",
      "    \"res\": [\r\n",
      "        1.0,\r\n",
      "        1.0\r\n",
      "    ],\r\n",
      "    \"shape\": [\r\n",
      "        878340,\r\n",
      "        499126\r\n",
      "    ],\r\n",
      "    \"tiled\": true,\r\n",
      "    \"transform\": [\r\n",
      "        1.0,\r\n",
      "        0.0,\r\n",
      "        1303555.0000000005,\r\n",
      "        0.0,\r\n",
      "        -1.0,\r\n",
      "        2535064.999999998,\r\n",
      "        0.0,\r\n",
      "        0.0,\r\n",
      "        1.0\r\n",
      "    ],\r\n",
      "    \"units\": [\r\n",
      "        null\r\n",
      "    ],\r\n",
      "    \"width\": 499126\r\n",
      "}\r\n"
     ]
    }
   ],
   "source": [
    "! rio info s3://dev-et-data/irani/Baywide_13Class_20132014.tif | python -m json.tool"
   ]
  },
  {
   "cell_type": "code",
   "execution_count": 12,
   "id": "b9688d31",
   "metadata": {},
   "outputs": [
    {
     "name": "stdout",
     "output_type": "stream",
     "text": [
      "{\r\n",
      "    \"bbox\": [\r\n",
      "        -81.14658496196135,\r\n",
      "        36.21291717905733,\r\n",
      "        -73.27357561029186,\r\n",
      "        44.77821441524524\r\n",
      "    ],\r\n",
      "    \"geometry\": {\r\n",
      "        \"coordinates\": [\r\n",
      "            [\r\n",
      "                [\r\n",
      "                    -81.14658496196135,\r\n",
      "                    36.21291717905733\r\n",
      "                ],\r\n",
      "                [\r\n",
      "                    -73.27357561029186,\r\n",
      "                    36.21291717905733\r\n",
      "                ],\r\n",
      "                [\r\n",
      "                    -73.27357561029186,\r\n",
      "                    44.77821441524524\r\n",
      "                ],\r\n",
      "                [\r\n",
      "                    -81.14658496196135,\r\n",
      "                    44.77821441524524\r\n",
      "                ],\r\n",
      "                [\r\n",
      "                    -81.14658496196135,\r\n",
      "                    36.21291717905733\r\n",
      "                ]\r\n",
      "            ]\r\n",
      "        ],\r\n",
      "        \"type\": \"Polygon\"\r\n",
      "    },\r\n",
      "    \"properties\": {\r\n",
      "        \"filename\": \"Baywide_13Class_20132014.tif\",\r\n",
      "        \"id\": \"0\",\r\n",
      "        \"title\": \"s3://dev-et-data/irani/Baywide_13Class_20132014.tif\"\r\n",
      "    },\r\n",
      "    \"type\": \"Feature\"\r\n",
      "}\r\n"
     ]
    }
   ],
   "source": [
    "! rio bounds s3://dev-et-data/irani/Baywide_13Class_20132014.tif | python -m json.tool"
   ]
  },
  {
   "cell_type": "code",
   "execution_count": 13,
   "id": "3bf4e71f",
   "metadata": {},
   "outputs": [],
   "source": [
    "! rio bounds s3://dev-et-data/irani/Baywide_13Class_20132014.tif > bay.geojson"
   ]
  },
  {
   "cell_type": "code",
   "execution_count": 14,
   "id": "3236a356",
   "metadata": {},
   "outputs": [
    {
     "name": "stdout",
     "output_type": "stream",
     "text": [
      "download: s3://dev-et-data/irani/Baywide_13Class_20132014.tif to ../../../Baywide_13Class_20132014.tif\n"
     ]
    }
   ],
   "source": [
    "! aws s3 cp s3://dev-et-data/irani/Baywide_13Class_20132014.tif ~"
   ]
  },
  {
   "cell_type": "code",
   "execution_count": 15,
   "id": "2af5f59a",
   "metadata": {},
   "outputs": [
    {
     "name": "stdout",
     "output_type": "stream",
     "text": [
      "/home/jovyan\r\n"
     ]
    }
   ],
   "source": [
    "! echo ~"
   ]
  },
  {
   "cell_type": "code",
   "execution_count": 16,
   "id": "4359fd2f",
   "metadata": {},
   "outputs": [
    {
     "name": "stdout",
     "output_type": "stream",
     "text": [
      "Driver: GTiff/GeoTIFF\r\n",
      "Files: /home/jovyan/Baywide_13Class_20132014.tif\r\n",
      "Size is 499126, 878340\r\n",
      "Coordinate System is:\r\n",
      "PROJCRS[\"USA_Contiguous_Albers_Equal_Area_Conic_USGS_version\",\r\n",
      "    BASEGEOGCRS[\"NAD83\",\r\n",
      "        DATUM[\"North American Datum 1983\",\r\n",
      "            ELLIPSOID[\"GRS 1980\",6378137,298.257222101004,\r\n",
      "                LENGTHUNIT[\"metre\",1]]],\r\n",
      "        PRIMEM[\"Greenwich\",0,\r\n",
      "            ANGLEUNIT[\"degree\",0.0174532925199433]],\r\n",
      "        ID[\"EPSG\",4269]],\r\n",
      "    CONVERSION[\"Albers Equal Area\",\r\n",
      "        METHOD[\"Albers Equal Area\",\r\n",
      "            ID[\"EPSG\",9822]],\r\n",
      "        PARAMETER[\"Latitude of false origin\",23,\r\n",
      "            ANGLEUNIT[\"degree\",0.0174532925199433],\r\n",
      "            ID[\"EPSG\",8821]],\r\n",
      "        PARAMETER[\"Longitude of false origin\",-96,\r\n",
      "            ANGLEUNIT[\"degree\",0.0174532925199433],\r\n",
      "            ID[\"EPSG\",8822]],\r\n",
      "        PARAMETER[\"Latitude of 1st standard parallel\",29.5,\r\n",
      "            ANGLEUNIT[\"degree\",0.0174532925199433],\r\n",
      "            ID[\"EPSG\",8823]],\r\n",
      "        PARAMETER[\"Latitude of 2nd standard parallel\",45.5,\r\n",
      "            ANGLEUNIT[\"degree\",0.0174532925199433],\r\n",
      "            ID[\"EPSG\",8824]],\r\n",
      "        PARAMETER[\"Easting at false origin\",0,\r\n",
      "            LENGTHUNIT[\"metre\",1],\r\n",
      "            ID[\"EPSG\",8826]],\r\n",
      "        PARAMETER[\"Northing at false origin\",0,\r\n",
      "            LENGTHUNIT[\"metre\",1],\r\n",
      "            ID[\"EPSG\",8827]]],\r\n",
      "    CS[Cartesian,2],\r\n",
      "        AXIS[\"easting\",east,\r\n",
      "            ORDER[1],\r\n",
      "            LENGTHUNIT[\"metre\",1,\r\n",
      "                ID[\"EPSG\",9001]]],\r\n",
      "        AXIS[\"northing\",north,\r\n",
      "            ORDER[2],\r\n",
      "            LENGTHUNIT[\"metre\",1,\r\n",
      "                ID[\"EPSG\",9001]]]]\r\n",
      "Data axis to CRS axis mapping: 1,2\r\n",
      "Origin = (1303555.000000000465661,2535064.999999998137355)\r\n",
      "Pixel Size = (1.000000000000000,-1.000000000000000)\r\n",
      "Metadata:\r\n",
      "  AREA_OR_POINT=Area\r\n",
      "  DataType=Generic\r\n",
      "Image Structure Metadata:\r\n",
      "  COMPRESSION=LZW\r\n",
      "  INTERLEAVE=BAND\r\n",
      "Corner Coordinates:\r\n",
      "Upper Left  ( 1303555.000, 2535065.000) ( 79d24'57.14\"W, 44d46'41.57\"N)\r\n",
      "Lower Left  ( 1303555.000, 1656725.000) ( 81d 8'47.70\"W, 37d 2' 4.98\"N)\r\n",
      "Upper Right ( 1802681.000, 2535065.000) ( 73d16'24.88\"W, 43d51'28.85\"N)\r\n",
      "Lower Right ( 1802681.000, 1656725.000) ( 75d36'32.94\"W, 36d12'46.52\"N)\r\n",
      "Center      ( 1553118.000, 2095895.000) ( 77d23'53.86\"W, 40d30'13.23\"N)\r\n",
      "Band 1 Block=128x128 Type=Byte, ColorInterp=Palette\r\n",
      "  Min=1.000 Max=12.000 \r\n",
      "  Minimum=1.000, Maximum=12.000, Mean=3.588, StdDev=1.478\r\n",
      "  NoData Value=0\r\n",
      "  Metadata:\r\n",
      "    RepresentationType=THEMATIC\r\n",
      "    STATISTICS_COVARIANCES=2.184897016039103\r\n",
      "    STATISTICS_MAXIMUM=12\r\n",
      "    STATISTICS_MEAN=3.587997581131\r\n",
      "    STATISTICS_MINIMUM=1\r\n",
      "    STATISTICS_SKIPFACTORX=1\r\n",
      "    STATISTICS_SKIPFACTORY=1\r\n",
      "    STATISTICS_STDDEV=1.4781397146546\r\n",
      "  Image Structure Metadata:\r\n",
      "    NBITS=4\r\n",
      "  Color Table (RGB with 16 entries)\r\n",
      "    0: 0,0,0,0\r\n",
      "    1: 0,197,255,255\r\n",
      "    2: 0,168,132,255\r\n",
      "    3: 38,115,0,255\r\n",
      "    4: 76,230,0,255\r\n",
      "    5: 163,255,115,255\r\n",
      "    6: 255,170,0,255\r\n",
      "    7: 255,0,0,255\r\n",
      "    8: 156,156,156,255\r\n",
      "    9: 0,0,0,255\r\n",
      "   10: 115,115,0,255\r\n",
      "   11: 230,230,0,255\r\n",
      "   12: 255,255,115,255\r\n",
      "   13: 197,0,255,255\r\n",
      "   14: 0,0,0,255\r\n",
      "   15: 0,0,0,255\r\n"
     ]
    }
   ],
   "source": [
    "!gdalinfo ~/Baywide_13Class_20132014.tif"
   ]
  },
  {
   "cell_type": "code",
   "execution_count": null,
   "id": "07ee6867",
   "metadata": {},
   "outputs": [],
   "source": []
  }
 ],
 "metadata": {
  "kernelspec": {
   "display_name": "Python 3",
   "language": "python",
   "name": "python3"
  },
  "language_info": {
   "codemirror_mode": {
    "name": "ipython",
    "version": 3
   },
   "file_extension": ".py",
   "mimetype": "text/x-python",
   "name": "python",
   "nbconvert_exporter": "python",
   "pygments_lexer": "ipython3",
   "version": "3.7.10"
  }
 },
 "nbformat": 4,
 "nbformat_minor": 5
}
