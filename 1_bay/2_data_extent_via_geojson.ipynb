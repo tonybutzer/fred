{
 "cells": [
  {
   "cell_type": "markdown",
   "id": "550aa6b4",
   "metadata": {},
   "source": [
    "# Geojson - its the new shapefile"
   ]
  },
  {
   "cell_type": "code",
   "execution_count": 2,
   "id": "54d0c414",
   "metadata": {},
   "outputs": [
    {
     "name": "stdout",
     "output_type": "stream",
     "text": [
      "--2022-05-25 23:22:56--  https://raw.githubusercontent.com/tonybutzer/composite/41771c607f8f073b042b399080cd0f0bcc94a46a/00-notebooks/05-04-2021-FIRE/fakelib/fm_map.py\n",
      "Resolving raw.githubusercontent.com (raw.githubusercontent.com)... 185.199.110.133, 185.199.108.133, 185.199.109.133, ...\n",
      "Connecting to raw.githubusercontent.com (raw.githubusercontent.com)|185.199.110.133|:443... connected.\n",
      "HTTP request sent, awaiting response... 200 OK\n",
      "Length: 2637 (2.6K) [text/plain]\n",
      "Saving to: ‘fm_map.py’\n",
      "\n",
      "fm_map.py           100%[===================>]   2.58K  --.-KB/s    in 0s      \n",
      "\n",
      "2022-05-25 23:22:56 (51.6 MB/s) - ‘fm_map.py’ saved [2637/2637]\n",
      "\n"
     ]
    }
   ],
   "source": [
    "#! wget https://raw.githubusercontent.com/tonybutzer/composite/41771c607f8f073b042b399080cd0f0bcc94a46a/00-notebooks/05-04-2021-FIRE/fakelib/fm_map.py"
   ]
  },
  {
   "cell_type": "code",
   "execution_count": null,
   "id": "e9780baa",
   "metadata": {},
   "outputs": [],
   "source": [
    "from  import Fmap"
   ]
  }
 ],
 "metadata": {
  "kernelspec": {
   "display_name": "Python 3",
   "language": "python",
   "name": "python3"
  },
  "language_info": {
   "codemirror_mode": {
    "name": "ipython",
    "version": 3
   },
   "file_extension": ".py",
   "mimetype": "text/x-python",
   "name": "python",
   "nbconvert_exporter": "python",
   "pygments_lexer": "ipython3",
   "version": "3.7.10"
  }
 },
 "nbformat": 4,
 "nbformat_minor": 5
}
